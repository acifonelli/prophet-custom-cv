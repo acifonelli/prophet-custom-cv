{
  "cells": [
    {
      "attachments": {},
      "cell_type": "markdown",
      "metadata": {
        "id": "Txo2ZCZ6u-v8"
      },
      "source": [
        "# Preliminaries"
      ]
    },
    {
      "attachments": {},
      "cell_type": "markdown",
      "metadata": {
        "id": "q39ingahYEqQ"
      },
      "source": [
        "## Installing prophet"
      ]
    },
    {
      "attachments": {},
      "cell_type": "markdown",
      "metadata": {
        "id": "UA99K6hQM_lN"
      },
      "source": [
        "Importing the base libraries like `io`, `os`, `sys`, `setuptools` and `tokenize` helps the dependencies resolution."
      ]
    },
    {
      "cell_type": "code",
      "execution_count": null,
      "metadata": {
        "colab": {
          "base_uri": "https://localhost:8080/"
        },
        "id": "HO6feLiHUfue",
        "outputId": "3954e748-363e-497a-f9d6-5eeb790b0485"
      },
      "outputs": [],
      "source": [
        "%pip install prophet\n",
        "%pip install plotly"
      ]
    },
    {
      "attachments": {},
      "cell_type": "markdown",
      "metadata": {
        "id": "xFdWsDTeYi09"
      },
      "source": [
        "## Import libraries"
      ]
    },
    {
      "cell_type": "code",
      "execution_count": null,
      "metadata": {
        "id": "s1uayiKWYX06"
      },
      "outputs": [],
      "source": [
        "import numpy as np\n",
        "import pandas as pd\n",
        "import plotly.graph_objects as go\n",
        "import sys\n",
        "\n",
        "from os import path\n",
        "from plotly.subplots import make_subplots\n",
        "from prophet import Prophet\n",
        "from sklearn.metrics import mean_squared_error\n",
        "from sklearn.model_selection import TimeSeriesSplit\n"
      ]
    },
    {
      "attachments": {},
      "cell_type": "markdown",
      "metadata": {
        "id": "Ip8ir7sevg_O"
      },
      "source": [
        "Importing the following library and calling the corresponding mount command is required only if you are operating in a Colab setting."
      ]
    },
    {
      "cell_type": "code",
      "execution_count": null,
      "metadata": {
        "colab": {
          "base_uri": "https://localhost:8080/"
        },
        "id": "wIsYHHH7Mwm3",
        "outputId": "e351e9ba-a16a-4abb-db99-1c42cb3fdd99"
      },
      "outputs": [],
      "source": [
        "root = path.join(\".\", \"..\")\n",
        "content = path.join(root, \"data\")"
      ]
    },
    {
      "attachments": {},
      "cell_type": "markdown",
      "metadata": {
        "id": "iS1ZobUfU-FL"
      },
      "source": [
        "## Prepare the dataset"
      ]
    },
    {
      "attachments": {},
      "cell_type": "markdown",
      "metadata": {
        "id": "R-RUGbOlZzN5"
      },
      "source": [
        "We are ready to read the file, directly preparing it to be fed to our Prophet model (i.e. Prophet expects to find columns `ds` and `y` in the input DataFrame)."
      ]
    },
    {
      "cell_type": "code",
      "execution_count": null,
      "metadata": {
        "id": "W8i_EhfYYmIh"
      },
      "outputs": [],
      "source": [
        "\n",
        "pdata = path.join(content, \"AirPassengers.csv\")\n",
        "nheader = [\"ds\", \"y\"]\n",
        "datecols = [\"ds\"]\n",
        "\n",
        "df = pd.read_csv(pdata,\n",
        "                 # Tells pandas that the file contains a header (the first row,\n",
        "                 # i.e. line 0) and to replace it with the one provided\n",
        "                 # by 'names'\n",
        "                 header = 0, names = nheader,\n",
        "                 # Let also pandas know that one of the columns is a date\n",
        "                 parse_dates = datecols)"
      ]
    },
    {
      "attachments": {},
      "cell_type": "markdown",
      "metadata": {
        "id": "rbWVbPygzL45"
      },
      "source": [
        "Having exploited directly the 'read_csv' functionalities leave the code lighter and more readable.    \n",
        "The same behaviour could have been achieved with the following calls    \n",
        "\n",
        "\n",
        "```\n",
        "df = pd.read_csv(pdata)\n",
        "df['Month'] = pd.DatetimeIndex(df['Month'])\n",
        "df = df.rename(columns =\n",
        "  {\n",
        "    'Month': 'ds',\n",
        "    '#Passengers': 'y'\n",
        "  })\n",
        "```\n",
        "\n",
        "which is a bit more verbose and error prone.    \n",
        "    \n",
        "Now let's quickly inspect our dataset..."
      ]
    },
    {
      "cell_type": "code",
      "execution_count": null,
      "metadata": {
        "colab": {
          "base_uri": "https://localhost:8080/",
          "height": 206
        },
        "id": "zNG-AyGwZl8q",
        "outputId": "c645479f-00fb-4935-f8d7-a0449697a157"
      },
      "outputs": [],
      "source": [
        "df.head()"
      ]
    },
    {
      "cell_type": "code",
      "execution_count": null,
      "metadata": {
        "colab": {
          "base_uri": "https://localhost:8080/"
        },
        "id": "nfSOqOX7ZtjG",
        "outputId": "0a9279ae-f622-48d7-98a0-ae7feb411152"
      },
      "outputs": [],
      "source": [
        "df.info()"
      ]
    },
    {
      "cell_type": "code",
      "execution_count": null,
      "metadata": {
        "colab": {
          "base_uri": "https://localhost:8080/",
          "height": 300
        },
        "id": "xRXYaKloNqUw",
        "outputId": "d1bd33a8-0a18-4088-9b20-5d80889ee5f5"
      },
      "outputs": [],
      "source": [
        "df.describe()"
      ]
    },
    {
      "attachments": {},
      "cell_type": "markdown",
      "metadata": {
        "id": "ZrLTZzJzczwf"
      },
      "source": [
        "... and visualize it"
      ]
    },
    {
      "cell_type": "code",
      "execution_count": null,
      "metadata": {
        "colab": {
          "base_uri": "https://localhost:8080/",
          "height": 542
        },
        "id": "3Z7LNA0WRrBS",
        "outputId": "35ad2fe1-faba-4919-f1df-d3e2046cfc29"
      },
      "outputs": [],
      "source": [
        "fig = go.Figure(\n",
        "    data = [go.Scatter(x = df.ds, y = df.y, mode = \"lines\")],\n",
        "    layout = {\n",
        "        \"title\": \"Airline Passengers\",\n",
        "        \"xaxis\": {\"title\": \"Date\"},\n",
        "        \"yaxis\": {\"title\": \"Monthly Number of Airline Passengers\"}\n",
        "    }\n",
        ")\n",
        "\n",
        "fig.show()"
      ]
    },
    {
      "attachments": {},
      "cell_type": "markdown",
      "metadata": {
        "id": "hiXFVIOWVRTl"
      },
      "source": [
        "Thanks to the peculiarity of this particular dataset, several properties can de directly derived from visual inspection\n",
        "\n",
        "- **Trend**: thanks to the technological advance, increasing flights security and ticket's price drop, more and more people could afford an airplane trip. This is captured by the increasing slope in the data, also called *trend*.\n",
        "- **Seasonality**: is identified as a pattern which repeats itself over and over in the data, with a fixed period (e.g. 12 for monthly data, 7 for weekly one). In the figure the monthly seasonal pattern is clearly visible, with a peak in the summer months when most of the people take their vacations.\n",
        "-- *Additive seasonality*: we can also distinguish two modalities for a seasonal pattern, an *additive* one (i.e. the magnitude of the seasonality does not vary with the level of the data) or a *multiplicative* modality.\n",
        "\n",
        "For the dataset under inspection and for what we just said, we can conclude that the seasonality in the Airline Passengers case is multiplicative. To better explain this latter concept let's decompose the data in the old fashion, with moving averages"
      ]
    },
    {
      "cell_type": "code",
      "execution_count": null,
      "metadata": {
        "colab": {
          "base_uri": "https://localhost:8080/",
          "height": 542
        },
        "id": "jt8yEGYH_hwe",
        "outputId": "2c0b501e-6d25-4b6b-af39-1ae4f22d10c4"
      },
      "outputs": [],
      "source": [
        "\n",
        "# The data have an even period (i.e. 12 months), hence the trend is estimated\n",
        "# as a centered moving average (i.e. 2xm moving average)\n",
        "df[\"atrend\"] = df.y.rolling(12, center=True).mean()\n",
        "\n",
        "# Remove the trend from the original. In the additive case we subtract the\n",
        "# trend estimation. In the multiplicative hypothesis we divide by the\n",
        "# estimation.\n",
        "df[\"adty\"] = df.y - df.atrend\n",
        "\n",
        "# The season for each month is simply the average of the values for that month\n",
        "# over the whole data range.\n",
        "df[\"aseason\"] = df.groupby(df.ds.dt.month).adty.transform(\"mean\")\n",
        "\n",
        "decomposition_fig = make_subplots(\n",
        "    rows=3, cols=1,\n",
        "    shared_xaxes=True,\n",
        "    subplot_titles=[\"Trend\", \"Season\", \"Reconstruction\"])\n",
        "decomposition_fig.update_layout(showlegend=False)\n",
        "decomposition_fig.add_trace(\n",
        "    go.Scatter(x = df.ds, y = df.atrend),\n",
        "    row=1, col=1\n",
        ")\n",
        "decomposition_fig.add_trace(\n",
        "    go.Scatter(x = df.ds, y = df.aseason),\n",
        "    row=2, col=1\n",
        ")\n",
        "decomposition_fig.add_trace(\n",
        "    go.Scatter(x = df.ds, y = df.y,\n",
        "               mode=\"lines\", line={\"color\": \"green\"}),\n",
        "    row=3, col=1\n",
        ")\n",
        "decomposition_fig.add_trace(\n",
        "    go.Scatter(x = df.ds, y = df.atrend + df.aseason,\n",
        "               mode=\"markers\",\n",
        "               marker={\n",
        "                   \"color\": \"rgba(0, 0, 0, 0)\",\n",
        "                   \"line\": {\"width\": 1,\"color\": \"green\"}\n",
        "               }),\n",
        "    row=3, col=1\n",
        ")"
      ]
    },
    {
      "cell_type": "code",
      "execution_count": null,
      "metadata": {
        "colab": {
          "base_uri": "https://localhost:8080/",
          "height": 542
        },
        "id": "pusICJdg1i6I",
        "outputId": "a44d1067-8cec-4a16-c428-902d21161eaf"
      },
      "outputs": [],
      "source": [
        "df[\"trend\"] = df.y.rolling(12, center=True).mean()\n",
        "df[\"dty\"] = df.y / df.trend\n",
        "df[\"season\"] = df.groupby(df.ds.dt.month).dty.transform(\"mean\")\n",
        "\n",
        "decomposition_fig = make_subplots(\n",
        "    rows=3, cols=1,\n",
        "    shared_xaxes=True,\n",
        "    subplot_titles=[\"Trend\", \"Season\", \"Reconstruction\"])\n",
        "decomposition_fig.update_layout(showlegend=False)\n",
        "decomposition_fig.add_trace(\n",
        "    go.Scatter(x = df.ds, y = df.trend),\n",
        "    row=1, col=1\n",
        ")\n",
        "decomposition_fig.add_trace(\n",
        "    go.Scatter(x = df.ds, y = df.season),\n",
        "    row=2, col=1\n",
        ")\n",
        "decomposition_fig.add_trace(\n",
        "    go.Scatter(x = df.ds, y = df.y,\n",
        "               mode=\"lines\", line={\"color\": \"green\"}),\n",
        "    row=3, col=1\n",
        ")\n",
        "decomposition_fig.add_trace(\n",
        "    go.Scatter(x = df.ds, y = df.trend * df.season,\n",
        "               mode=\"markers\",\n",
        "               marker={\n",
        "                   \"color\": \"rgba(0, 0, 0, 0)\",\n",
        "                   \"line\": {\"width\": 1,\"color\": \"green\"}\n",
        "               }),\n",
        "    row=3, col=1\n",
        ")"
      ]
    },
    {
      "attachments": {},
      "cell_type": "markdown",
      "metadata": {
        "id": "_XRrGTB_8aoV"
      },
      "source": [
        "The difference is subtle, but the Devil is in the details."
      ]
    },
    {
      "attachments": {},
      "cell_type": "markdown",
      "metadata": {
        "id": "2MhUGreLdBLW"
      },
      "source": [
        "#Prophet forecasting\n"
      ]
    },
    {
      "attachments": {},
      "cell_type": "markdown",
      "metadata": {
        "id": "X9z5fJDIW0t6"
      },
      "source": [
        "##Air Passengers Data"
      ]
    },
    {
      "attachments": {},
      "cell_type": "markdown",
      "metadata": {
        "id": "QIKYAfk3dzyp"
      },
      "source": [
        "As we said the Airline Passengers dataset exposes a trend and monthly `multiplicative` seasonality. This is exactly what we are going to ask to Prophet. For the moment we will keep the trend `linear` (Prophet default) and ask only for the yearly seasonality.    \n",
        "    \n",
        "Prophet does not handle well monthly-data and sub-daily data and could lead to non-sensical results. However this let us introduce the concepts of regressors.    \n",
        "The goal here is to assign a certain \"weight\" to each month of the year, the weight will resemble how much that particular month contributes to the forecast. To achieve this we introduce 12 dummy variables, one for each month of the year, that will be passed as regressors to the model."
      ]
    },
    {
      "cell_type": "code",
      "execution_count": null,
      "metadata": {
        "colab": {
          "base_uri": "https://localhost:8080/",
          "height": 206
        },
        "id": "xAuz7UJSt3cz",
        "outputId": "d9588381-4b60-43e5-a440-6b36d443f8fd"
      },
      "outputs": [],
      "source": [
        "months_dummy = ['is_jan', 'is_feb', 'is_mar', 'is_apr', 'is_may', 'is_jun',\n",
        "                'is_jul', 'is_aug', 'is_sep', 'is_oct', 'is_nov', 'is_dec']\n",
        "for i, month in enumerate(months_dummy):\n",
        "  df[month] = (df['ds'].dt.month == i + 1).values.astype('float')\n",
        "\n",
        "df.head()"
      ]
    },
    {
      "cell_type": "code",
      "execution_count": null,
      "metadata": {
        "colab": {
          "base_uri": "https://localhost:8080/"
        },
        "id": "cDEXg4fBj17q",
        "outputId": "63d59b92-5a64-43f0-d4da-145b9cf92c44"
      },
      "outputs": [],
      "source": [
        "linear = Prophet(\n",
        "    daily_seasonality=False, # we are not interested in this seasonality\n",
        "    yearly_seasonality=False, # we are not interested in this seasonality\n",
        "    weekly_seasonality=False, # we are not interested in this seasonality\n",
        "    seasonality_mode=\"multiplicative\", # ask for a multiplicative treatment\n",
        "    mcmc_samples=200) # useful to estimate uncertainty on components\n",
        "\n",
        "# Add the 12 regressors\n",
        "for month in months_dummy:\n",
        "  linear.add_regressor(month)\n",
        "\n",
        "linear.fit(df, show_progress=False)"
      ]
    },
    {
      "cell_type": "code",
      "execution_count": null,
      "metadata": {
        "colab": {
          "base_uri": "https://localhost:8080/",
          "height": 206
        },
        "id": "zdwOCPeQdKwt",
        "outputId": "a35158ea-9cd3-44c9-c60a-d1f3ea5005ac"
      },
      "outputs": [],
      "source": [
        "future_dates = linear.make_future_dataframe(periods=36, freq='MS')\n",
        "\n",
        "for i, month in enumerate(months_dummy):\n",
        "    future_dates[month] = (future_dates['ds'].dt.month == i + 1).values.astype('float')\n",
        "\n",
        "future_dates.head()"
      ]
    },
    {
      "cell_type": "code",
      "execution_count": null,
      "metadata": {
        "colab": {
          "base_uri": "https://localhost:8080/",
          "height": 386
        },
        "id": "3WVK2QEgdOO9",
        "outputId": "ec229d9f-171b-457d-d691-3009ecd4f35f"
      },
      "outputs": [],
      "source": [
        "forecast = linear.predict(future_dates)\n",
        "forecast.head()"
      ]
    },
    {
      "cell_type": "code",
      "execution_count": null,
      "metadata": {
        "colab": {
          "base_uri": "https://localhost:8080/",
          "height": 607
        },
        "id": "IDvqyhZedei6",
        "outputId": "596e1f37-5671-4b05-d368-b0dc97bfa626"
      },
      "outputs": [],
      "source": [
        "fig = linear.plot(forecast);"
      ]
    },
    {
      "cell_type": "code",
      "execution_count": null,
      "metadata": {
        "colab": {
          "base_uri": "https://localhost:8080/",
          "height": 607
        },
        "id": "tCs7-Qa-di79",
        "outputId": "3de2915e-3b01-42ce-f010-6fc749120650"
      },
      "outputs": [],
      "source": [
        "linear.plot_components(forecast);"
      ]
    },
    {
      "attachments": {},
      "cell_type": "markdown",
      "metadata": {
        "id": "ieaM4VPRyTfT"
      },
      "source": [
        "You could have possibly achieved the same results calling"
      ]
    },
    {
      "cell_type": "code",
      "execution_count": null,
      "metadata": {
        "colab": {
          "base_uri": "https://localhost:8080/"
        },
        "id": "x3Eh8FS4yAd7",
        "outputId": "b3f6a958-4875-4a5a-8265-e7b75a9e4b9b"
      },
      "outputs": [],
      "source": [
        "ylinear = Prophet(\n",
        "      daily_seasonality=False,\n",
        "      yearly_seasonality=\"auto\", # (default) just to highlith the difference\n",
        "      weekly_seasonality=False,\n",
        "      seasonality_mode=\"multiplicative\",\n",
        "      mcmc_samples=200\n",
        "    ).fit(df, show_progress=False);\n",
        "yforecast = ylinear.predict(future_dates);"
      ]
    },
    {
      "cell_type": "code",
      "execution_count": null,
      "metadata": {
        "colab": {
          "base_uri": "https://localhost:8080/",
          "height": 607
        },
        "id": "fRD-Gt97NYib",
        "outputId": "d3673986-4306-480e-c975-ddc589ecd96a"
      },
      "outputs": [],
      "source": [
        "yfig = ylinear.plot(yforecast);"
      ]
    },
    {
      "cell_type": "code",
      "execution_count": null,
      "metadata": {
        "colab": {
          "base_uri": "https://localhost:8080/",
          "height": 607
        },
        "id": "NNNl11MczkjS",
        "outputId": "84ce8a97-63ce-48b1-90d1-0693bb0e97fe"
      },
      "outputs": [],
      "source": [
        "ylinear.plot_components(yforecast);"
      ]
    },
    {
      "attachments": {},
      "cell_type": "markdown",
      "metadata": {
        "id": "Kh2Rh_LzzsU5"
      },
      "source": [
        "But, as you can see, even if the final forecast seems correct, the seasonal component makes no sense because the model searches for a mid-month information which is not there."
      ]
    },
    {
      "attachments": {},
      "cell_type": "markdown",
      "metadata": {
        "id": "Y77tUij6yEoZ"
      },
      "source": [
        "##Metrics **(TO BE REVIEWED)**"
      ]
    },
    {
      "attachments": {},
      "cell_type": "markdown",
      "metadata": {
        "id": "MVR5clgyidJ-"
      },
      "source": [
        "The default `cross_validation` function available in Prophet produce daily date range by default. Internally `Timedelta`s are used to generate the `cutoff`s instead of the `daterange` employed in the `make_future_dataframe()` function. `Timedelta` indeed expects a different set of frequencies, raging from weeks to nanoseconds.     \n",
        "This is not suitable for the dataset we are working with: the number of observed passengers are aggregated on the first day of each month, we would like to forecast the number of passengers for the next `horizon` months - with `period` - and keep the first day of the month as a reference for the time index.    \n",
        "A combination of `horizon` and `period` expressed in weeks or days will generate a misalignment.    \n",
        "    \n",
        "Keeping the same structure of the original `cross_validation` we use a custom version of it."
      ]
    },
    {
      "cell_type": "code",
      "execution_count": null,
      "metadata": {
        "colab": {
          "base_uri": "https://localhost:8080/",
          "height": 1000
        },
        "collapsed": true,
        "id": "8DloBcMC-QWe",
        "outputId": "77323142-4a1b-42ac-a0c1-e8ed5deb6ac6"
      },
      "outputs": [],
      "source": [
        "custom_package = path.join(root, \"custom_prophet\")\n",
        "if not custom_package in sys.path: sys.path.append(custom_package) # Hack way to import a local module\n",
        "\n",
        "from custom_diagnostics import cross_validation\n",
        "from prophet.diagnostics import performance_metrics\n"
      ]
    },
    {
      "cell_type": "code",
      "execution_count": null,
      "metadata": {},
      "outputs": [],
      "source": [
        "df_cv = cross_validation(linear, 12, freq = pd.infer_freq(df['ds']),\n",
        "                         initial=pd.Timestamp(\"1952-12-01\"))"
      ]
    },
    {
      "cell_type": "code",
      "execution_count": null,
      "metadata": {
        "colab": {
          "base_uri": "https://localhost:8080/",
          "height": 206
        },
        "id": "tU6WZx1l_ZyB",
        "outputId": "357ff8fa-df1f-40d0-b1f1-a20f136c8d75"
      },
      "outputs": [],
      "source": [
        "df_cv.head()"
      ]
    },
    {
      "attachments": {},
      "cell_type": "markdown",
      "metadata": {
        "id": "mUvMQY1IDg6U"
      },
      "source": [
        "Setting `initial = \"1952-12-01\"` and `horizon = 12` we are: using the first 4 years before the first `cutoff` date; asking for a whole year prediction after each `cutoff` date. Not having specified a `period`, it is automatically set to `period = 0.5 * horizon = 6` months.    \n",
        "    \n",
        "8 years are left as validation period - from 1953 to 1960 included - leading to *15* **overlapping** *cutoffs*: *2* for each year between 1953 and 1959, *1* for the last year since forecasting from June 1960 to June 1961 will fall outside the max historical date available. We can visual the prediction at different cutoff dates grouping the cross validation Dataframe by the cutoff date and plotting each group."
      ]
    },
    {
      "cell_type": "code",
      "execution_count": null,
      "metadata": {
        "colab": {
          "base_uri": "https://localhost:8080/",
          "height": 559
        },
        "id": "JB7xTiw--bjD",
        "outputId": "1676869c-0646-48bb-df51-2818ee70a05c"
      },
      "outputs": [],
      "source": [
        "grouped = df_cv.groupby(by=df_cv['cutoff'], sort=True)\n",
        "print(\"Number of groups: %d\" % len(grouped.groups))\n",
        "grouped_data = [\\\n",
        "    go.Scatter(x = group.ds, y = group.yhat, mode = \"lines\")\\\n",
        "    for (_, group) in grouped\\\n",
        "  ]\n",
        "\n",
        "cv_fig = go.Figure(\n",
        "    data = grouped_data,\n",
        "    layout = {\n",
        "        \"title\": \"Cross Validation\",\n",
        "        \"xaxis\": {\"title\": \"Date\"},\n",
        "        \"yaxis\": {\"title\": \"Monthly Number of Airline Passengers\"}\n",
        "    }\n",
        ")\n",
        "\n",
        "cv_fig.show()"
      ]
    },
    {
      "attachments": {},
      "cell_type": "markdown",
      "metadata": {
        "id": "abCDJqXGLt9U"
      },
      "source": [
        "Keeping `initial` and `horizon` as before but providing a `period = 12`, we have *8* **non-overlapping** *cutoffs*, 1 for each year from 1953 to 1960. Again, grouping the cross validation Dataframe by the cutoff date and plotting each group we can visual the prediction."
      ]
    },
    {
      "cell_type": "code",
      "execution_count": null,
      "metadata": {
        "colab": {
          "base_uri": "https://localhost:8080/",
          "height": 1000
        },
        "collapsed": true,
        "id": "XVpJ7Sh6gl-y",
        "outputId": "e61b73c1-f1dc-4005-ffb8-2bd92ff5d91a"
      },
      "outputs": [],
      "source": [
        "df_cv_wperiod = cross_validation(linear, 12, freq = pd.infer_freq(df['ds']),\n",
        "                         period = 12,\n",
        "                         initial=pd.Timestamp(\"1952-12-01\"));\n",
        "\n",
        "df_cv_wperiod.head()"
      ]
    },
    {
      "cell_type": "code",
      "execution_count": null,
      "metadata": {
        "colab": {
          "base_uri": "https://localhost:8080/",
          "height": 559
        },
        "id": "CXtdgYUei--C",
        "outputId": "b809b470-e920-4678-c1f0-0ea242cbf72d"
      },
      "outputs": [],
      "source": [
        "grouped_wperiod = df_cv_wperiod.groupby(by=df_cv_wperiod['cutoff'], sort=True)\n",
        "print(\"Number of groups: %d\" % len(grouped_wperiod.groups))\n",
        "grouped_data = [\\\n",
        "    go.Scatter(x = group.ds, y = group.yhat, mode = \"lines\")\\\n",
        "    for (_, group) in grouped_wperiod\\\n",
        "  ]\n",
        "\n",
        "cv_wperiod_fig = go.Figure(\n",
        "    data = grouped_data,\n",
        "    layout = {\n",
        "        \"title\": \"Cross Validation\",\n",
        "        \"xaxis\": {\"title\": \"Date\"},\n",
        "        \"yaxis\": {\"title\": \"Monthly Number of Airline Passengers\"}\n",
        "    }\n",
        ")\n",
        "\n",
        "cv_wperiod_fig.show()"
      ]
    },
    {
      "attachments": {},
      "cell_type": "markdown",
      "metadata": {
        "id": "jemdOvnw96Fz"
      },
      "source": [
        "Time to measure the performance of our model. Surprisingly the function `performance_metrics` expose a `monthly` flag which can be set to handle monthly data. Internally the function is taking the cross validation dates column `ds` and resampling it with a monthly frequency.    \n",
        "In our case the latter operation will be useless but lets us re-use the legacy function without having to implement our own version, as we did instead for `cross_validation`."
      ]
    },
    {
      "cell_type": "code",
      "execution_count": null,
      "metadata": {
        "colab": {
          "base_uri": "https://localhost:8080/",
          "height": 394
        },
        "id": "866QzUxFgmJD",
        "outputId": "d6afb7e8-2230-4f07-9c78-49bd9b984eb4"
      },
      "outputs": [],
      "source": [
        "df_p = performance_metrics(df_cv, monthly = True)\n",
        "df_p"
      ]
    },
    {
      "cell_type": "code",
      "execution_count": null,
      "metadata": {
        "id": "UsPdAPs_OwJ9"
      },
      "outputs": [],
      "source": [
        "df_p.mean()"
      ]
    }
  ],
  "metadata": {
    "colab": {
      "provenance": []
    },
    "kernelspec": {
      "display_name": "Python 3",
      "name": "python3"
    },
    "language_info": {
      "codemirror_mode": {
        "name": "ipython",
        "version": 3
      },
      "file_extension": ".py",
      "mimetype": "text/x-python",
      "name": "python",
      "nbconvert_exporter": "python",
      "pygments_lexer": "ipython3",
      "version": "3.7.9"
    }
  },
  "nbformat": 4,
  "nbformat_minor": 0
}
